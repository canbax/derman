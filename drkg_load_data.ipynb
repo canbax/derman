{
 "cells": [
  {
   "cell_type": "code",
   "execution_count": 2,
   "metadata": {},
   "outputs": [],
   "source": [
    "# takes around 9 seconds\n",
    "import pandas as pd\n",
    "drkg_df = pd.read_csv('data/drkg/drkg.tsv', sep='\\t')\n",
    "triplets = drkg_df.values.tolist()\n",
    "# print(drkg_df)"
   ]
  },
  {
   "cell_type": "markdown",
   "metadata": {},
   "source": [
    "# Create Schema"
   ]
  },
  {
   "cell_type": "code",
   "execution_count": 27,
   "metadata": {},
   "outputs": [],
   "source": [
    "edge_types = {} # dictionary of string to string array\n",
    "node_types = {} # dictionary of string to bool\n",
    "for tri in triplets:\n",
    "    [src, edge, tgt] = tri\n",
    "    src_arr = src.split('::')\n",
    "    src_type = src_arr[0].replace(' ', '')\n",
    "    src_id = str(src_arr[1])\n",
    "    tgt_arr = tgt.split('::')\n",
    "    tgt_type = tgt_arr[0].replace(' ', '')\n",
    "    tgt_id = str(tgt_arr[1])\n",
    "\n",
    "    if not src_type in node_types:\n",
    "        node_types[src_type] = True\n",
    "    if not tgt_type in node_types:\n",
    "        node_types[tgt_type] = True\n",
    "\n",
    "    # add the edge type per type couple\n",
    "    type_edge = f'{src_type}::{tgt_type}'\n",
    "    if not type_edge in edge_types:\n",
    "        edge_types[type_edge] = []\n",
    "    edge = edge.replace(' ', '').replace(':', '').replace(\n",
    "        '+', '').replace('>', '').replace('-', '')\n",
    "    if not edge in edge_types[type_edge]:\n",
    "        edge_types[type_edge].append(edge)\n",
    "\n",
    "\n",
    "schema = ''\n",
    "for t in node_types.keys():\n",
    "    schema += f'CREATE VERTEX {t} (PRIMARY_ID Id STRING) With primary_id_as_attribute=\"true\"\\n'\n",
    "for endpoints in edge_types:\n",
    "    [source_name, target_name] = endpoints.split('::')\n",
    "    for edge_name in edge_types[endpoints]:\n",
    "        schema += f'CREATE DIRECTED EDGE {edge_name} (FROM {source_name}, TO {target_name})\\n'\n",
    "# print(schema)"
   ]
  },
  {
   "cell_type": "markdown",
   "metadata": {},
   "source": [
    "# Connect to TigerGraph Cloud instance"
   ]
  },
  {
   "cell_type": "code",
   "execution_count": 3,
   "metadata": {},
   "outputs": [
    {
     "data": {
      "text/plain": [
       "'Hello GSQL'"
      ]
     },
     "execution_count": 3,
     "metadata": {},
     "output_type": "execute_result"
    }
   ],
   "source": [
    "import pyTigerGraph as tg \n",
    "host = 'https://re-drug.i.tgcloud.io'\n",
    "secret = \"iasks94n6dsudpjbif6md3ahoelopivr\"\n",
    "graph_name = \"Redrug\"\n",
    "user_name = \"tigergraph\"\n",
    "password = \"tigergraph\"\n",
    "token = tg.TigerGraphConnection(host=host, graphname=graph_name, username=user_name, password=password).getToken(secret, \"1000000\")[0]\n",
    "conn = tg.TigerGraphConnection(host=host, graphname=graph_name, username=user_name, password=password, apiToken=token)\n",
    "conn.echo()"
   ]
  },
  {
   "cell_type": "markdown",
   "metadata": {},
   "source": [
    "# Execute gsql to create schema in tgcloud"
   ]
  },
  {
   "cell_type": "code",
   "execution_count": 30,
   "metadata": {},
   "outputs": [
    {
     "name": "stdout",
     "output_type": "stream",
     "text": [
      "Please 'use global' first before run command: CREATE VERTEX\n"
     ]
    }
   ],
   "source": [
    "# print(conn.gsql('use global\\n' + schema))\n",
    "print(conn.gsql(schema))"
   ]
  },
  {
   "cell_type": "markdown",
   "metadata": {},
   "source": [
    "# Prepare edge bulks for bulk insert"
   ]
  },
  {
   "cell_type": "code",
   "execution_count": 4,
   "metadata": {},
   "outputs": [],
   "source": [
    "# takes around 20 seconds\n",
    "edge_bulks = {}\n",
    "# prepare to insert edges in bulks\n",
    "for tri in triplets:\n",
    "    [src, edge, tgt] = tri\n",
    "    src_arr = src.split('::')\n",
    "    src_type = src_arr[0].replace(' ', '')\n",
    "    src_id = str(src_arr[1])\n",
    "    tgt_arr = tgt.split('::')\n",
    "    tgt_type = tgt_arr[0].replace(' ', '')\n",
    "    tgt_id = str(tgt_arr[1])\n",
    "\n",
    "    # use this to check if there is any empty!\n",
    "    # if len(src_id) < 1 or len(tgt_id) < 1:\n",
    "    #     print (tri)\n",
    "\n",
    "    edge = edge.replace(' ', '').replace(':', '').replace(\n",
    "        '+', '').replace('>', '').replace('-', '')\n",
    "    if not src_type in edge_bulks:\n",
    "        edge_bulks[src_type] = {}\n",
    "    if not edge in edge_bulks[src_type]:\n",
    "        edge_bulks[src_type][edge] = {}\n",
    "    if not tgt_type in edge_bulks[src_type][edge]:\n",
    "        edge_bulks[src_type][edge][tgt_type] = []\n",
    "    edge_bulks[src_type][edge][tgt_type].append((src_id, tgt_id, {}))\n",
    "    # print(src_type, src_id, edge, tgt_type, tgt_id)"
   ]
  },
  {
   "cell_type": "markdown",
   "metadata": {},
   "source": [
    "# Insert the edge bulks chunk by chunk\n",
    "\n",
    "- Takes around 4 MINUTES! Be patient.\n",
    "- Original data has 29 Genes without ids. I deleted them. See https://github.com/gnn4dr/DRKG/issues/32\n",
    "- The fixed drkg.tsv is [here](https://drive.google.com/file/d/1Hc1mMEyh_4p6qHm4VLK2isb-E51himCA/view?usp=sharing)\n"
   ]
  },
  {
   "cell_type": "code",
   "execution_count": 5,
   "metadata": {},
   "outputs": [
    {
     "name": "stdout",
     "output_type": "stream",
     "text": [
      "0\n",
      "1\n",
      "2\n",
      "3\n",
      "4\n",
      "5\n",
      "6\n",
      "7\n",
      "8\n",
      "9\n",
      "10\n",
      "11\n",
      "12\n",
      "13\n",
      "14\n",
      "15\n",
      "16\n",
      "17\n",
      "18\n",
      "19\n",
      "20\n",
      "21\n",
      "22\n",
      "23\n",
      "24\n",
      "25\n",
      "26\n",
      "27\n",
      "28\n",
      "29\n",
      "30\n",
      "31\n",
      "32\n",
      "33\n",
      "34\n",
      "35\n",
      "36\n",
      "37\n",
      "38\n",
      "39\n",
      "40\n",
      "41\n",
      "42\n",
      "43\n",
      "44\n",
      "45\n",
      "46\n",
      "47\n",
      "48\n",
      "49\n",
      "50\n",
      "51\n",
      "52\n",
      "53\n",
      "54\n",
      "55\n",
      "56\n",
      "57\n",
      "58\n",
      "59\n",
      "60\n",
      "61\n",
      "62\n",
      "63\n",
      "64\n",
      "65\n",
      "66\n",
      "67\n",
      "68\n",
      "69\n",
      "70\n",
      "71\n",
      "72\n",
      "73\n",
      "74\n",
      "75\n",
      "76\n",
      "77\n",
      "78\n",
      "79\n",
      "80\n",
      "81\n",
      "82\n",
      "83\n",
      "84\n",
      "85\n",
      "86\n",
      "87\n",
      "88\n",
      "89\n",
      "90\n",
      "91\n",
      "92\n",
      "93\n",
      "94\n",
      "95\n",
      "96\n",
      "97\n",
      "98\n",
      "99\n",
      "100\n",
      "101\n",
      "102\n",
      "103\n",
      "104\n",
      "105\n",
      "106\n",
      "107\n",
      "108\n",
      "109\n",
      "110\n",
      "111\n",
      "112\n",
      "113\n",
      "114\n",
      "115\n",
      "116\n",
      "117\n",
      "118\n",
      "119\n",
      "120\n",
      "121\n",
      "122\n",
      "123\n",
      "124\n",
      "125\n",
      "126\n",
      "127\n",
      "128\n",
      "129\n",
      "130\n",
      "131\n",
      "132\n",
      "133\n",
      "134\n",
      "135\n",
      "136\n",
      "137\n",
      "138\n",
      "139\n",
      "140\n",
      "141\n",
      "142\n",
      "143\n",
      "144\n",
      "145\n"
     ]
    }
   ],
   "source": [
    "# use edge_bulks to insert BIG data chunk by chunk\n",
    "CHUNK_SIZE = 100000\n",
    "cnt = 0\n",
    "prev_cnt_stop = 0 # if somehow an error occurs, set this variable to not start from zero \n",
    "for src_type in edge_bulks:\n",
    "    for edge in edge_bulks[src_type]:\n",
    "        for tgt_type in edge_bulks[src_type][edge]:\n",
    "            edges = edge_bulks[src_type][edge][tgt_type]\n",
    "            for i in range(0, len(edges), CHUNK_SIZE):\n",
    "                if cnt >= prev_cnt_stop: \n",
    "                    print(cnt)\n",
    "                    conn.upsertEdges(src_type, edge, tgt_type, edges[i:i + CHUNK_SIZE])\n",
    "                cnt += 1"
   ]
  }
 ],
 "metadata": {
  "interpreter": {
   "hash": "c77c6f61c6b7b4b96b1f1362d1e492855f50ba30b6c9e892442a8cb8806ea707"
  },
  "kernelspec": {
   "display_name": "Python 3.9.7 ('base')",
   "language": "python",
   "name": "python3"
  },
  "language_info": {
   "codemirror_mode": {
    "name": "ipython",
    "version": 3
   },
   "file_extension": ".py",
   "mimetype": "text/x-python",
   "name": "python",
   "nbconvert_exporter": "python",
   "pygments_lexer": "ipython3",
   "version": "3.9.7"
  },
  "orig_nbformat": 4
 },
 "nbformat": 4,
 "nbformat_minor": 2
}
